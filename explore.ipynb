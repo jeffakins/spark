{
 "cells": [
  {
   "cell_type": "markdown",
   "id": "563b6ea0",
   "metadata": {},
   "source": [
    "# Exploring with Spark and Pandas"
   ]
  },
  {
   "cell_type": "markdown",
   "id": "9f824e46",
   "metadata": {},
   "source": [
    "### Answer the questions below by using a combination of the techniques discussed in the lesson that you think is appropriate."
   ]
  },
  {
   "cell_type": "code",
   "execution_count": 16,
   "id": "577a7c0e",
   "metadata": {},
   "outputs": [],
   "source": [
    "from pyspark.sql import SparkSession\n",
    "import pyspark.sql.functions as F\n",
    "import matplotlib as mpl\n",
    "import matplotlib.pyplot as plt\n",
    "import seaborn as sns\n",
    "spark = SparkSession.builder.getOrCreate()"
   ]
  },
  {
   "cell_type": "code",
   "execution_count": 2,
   "id": "c84c3767",
   "metadata": {},
   "outputs": [],
   "source": [
    "case = spark.read.csv(\"case.csv\", sep=\",\", header=True, inferSchema=True)\n",
    "dept = spark.read.csv(\"dept.csv\", sep=\",\", header=True, inferSchema=True)\n",
    "source = spark.read.csv(\"source.csv\", sep=\",\", header=True, inferSchema=True)"
   ]
  },
  {
   "cell_type": "code",
   "execution_count": 3,
   "id": "f3b26a13",
   "metadata": {},
   "outputs": [],
   "source": [
    "# Joining the data frames:\n",
    "df = case.join(dept, 'dept_division', 'left').join(source, 'source_id', 'left')"
   ]
  },
  {
   "cell_type": "code",
   "execution_count": 6,
   "id": "4f29cc8e",
   "metadata": {},
   "outputs": [
    {
     "name": "stdout",
     "output_type": "stream",
     "text": [
      "-RECORD 0------------------------------------------------------\n",
      " source_id              | svcCRMLS                             \n",
      " dept_division          | Field Operations                     \n",
      " case_id                | 1014127332                           \n",
      " case_opened_date       | 1/1/18 0:42                          \n",
      " case_closed_date       | 1/1/18 12:29                         \n",
      " SLA_due_date           | 9/26/20 0:42                         \n",
      " case_late              | NO                                   \n",
      " num_days_late          | -998.5087616000001                   \n",
      " case_closed            | YES                                  \n",
      " service_request_type   | Stray Animal                         \n",
      " SLA_days               | 999.0                                \n",
      " case_status            | Closed                               \n",
      " request_address        | 2315  EL PASO ST, San Antonio, 78207 \n",
      " council_district       | 5                                    \n",
      " dept_name              | Animal Care Services                 \n",
      " standardized_dept_name | Animal Care Services                 \n",
      " dept_subject_to_SLA    | YES                                  \n",
      " source_username        | svcCRMLS                             \n",
      "only showing top 1 row\n",
      "\n"
     ]
    }
   ],
   "source": [
    "df.show(1, vertical=True, truncate=False)"
   ]
  },
  {
   "cell_type": "markdown",
   "id": "a56a5ff8",
   "metadata": {},
   "source": [
    "#### 1. How many different cases are there, by department?"
   ]
  },
  {
   "cell_type": "code",
   "execution_count": 15,
   "id": "158bc654",
   "metadata": {},
   "outputs": [
    {
     "data": {
      "text/html": [
       "<div>\n",
       "<style scoped>\n",
       "    .dataframe tbody tr th:only-of-type {\n",
       "        vertical-align: middle;\n",
       "    }\n",
       "\n",
       "    .dataframe tbody tr th {\n",
       "        vertical-align: top;\n",
       "    }\n",
       "\n",
       "    .dataframe thead th {\n",
       "        text-align: right;\n",
       "    }\n",
       "</style>\n",
       "<table border=\"1\" class=\"dataframe\">\n",
       "  <thead>\n",
       "    <tr style=\"text-align: right;\">\n",
       "      <th></th>\n",
       "      <th>dept_division</th>\n",
       "      <th>count</th>\n",
       "    </tr>\n",
       "  </thead>\n",
       "  <tbody>\n",
       "    <tr>\n",
       "      <th>0</th>\n",
       "      <td>Miscellaneous</td>\n",
       "      <td>46165</td>\n",
       "    </tr>\n",
       "    <tr>\n",
       "      <th>1</th>\n",
       "      <td>Solid Waste</td>\n",
       "      <td>816</td>\n",
       "    </tr>\n",
       "    <tr>\n",
       "      <th>2</th>\n",
       "      <td>Field Operations</td>\n",
       "      <td>119362</td>\n",
       "    </tr>\n",
       "    <tr>\n",
       "      <th>3</th>\n",
       "      <td>Streets</td>\n",
       "      <td>39193</td>\n",
       "    </tr>\n",
       "    <tr>\n",
       "      <th>4</th>\n",
       "      <td>Waste Collection</td>\n",
       "      <td>220696</td>\n",
       "    </tr>\n",
       "  </tbody>\n",
       "</table>\n",
       "</div>"
      ],
      "text/plain": [
       "      dept_division   count\n",
       "0     Miscellaneous   46165\n",
       "1       Solid Waste     816\n",
       "2  Field Operations  119362\n",
       "3           Streets   39193\n",
       "4  Waste Collection  220696"
      ]
     },
     "execution_count": 15,
     "metadata": {},
     "output_type": "execute_result"
    }
   ],
   "source": [
    "case_dept = df.groupby(df.dept_division).count().toPandas()\n",
    "case_dept.head()"
   ]
  },
  {
   "cell_type": "code",
   "execution_count": 29,
   "id": "58f31b1d",
   "metadata": {},
   "outputs": [],
   "source": [
    "case_dept = case_dept.sort_values(by='count', ascending=False).reset_index(drop=True)"
   ]
  },
  {
   "cell_type": "code",
   "execution_count": 32,
   "id": "314710f1",
   "metadata": {},
   "outputs": [
    {
     "data": {
      "image/png": "[encoded data removed]",
      "text/plain": [
       "<Figure size 720x864 with 1 Axes>"
      ]
     },
     "metadata": {
      "needs_background": "light"
     },
     "output_type": "display_data"
    }
   ],
   "source": [
    "plt.figure(figsize=(10, 12))\n",
    "sns.barplot(x=\"count\", y=\"dept_division\", data=case_dept, color=\"b\")\n",
    "plt.title('Cases By Department')\n",
    "plt.xlabel('Case Count')\n",
    "plt.ylabel('Department')\n",
    "plt.show()"
   ]
  },
  {
   "cell_type": "markdown",
   "id": "c939e3c9",
   "metadata": {},
   "source": [
    "#### 2. Does the percentage of cases that are late vary by department?"
   ]
  },
  {
   "cell_type": "code",
   "execution_count": null,
   "id": "b5725a82",
   "metadata": {},
   "outputs": [],
   "source": []
  },
  {
   "cell_type": "markdown",
   "id": "2b38dee7",
   "metadata": {},
   "source": [
    "#### 3. On average, how late are the late cases by department?"
   ]
  },
  {
   "cell_type": "code",
   "execution_count": null,
   "id": "c409e662",
   "metadata": {},
   "outputs": [],
   "source": []
  },
  {
   "cell_type": "markdown",
   "id": "248b463f",
   "metadata": {},
   "source": [
    "#### 4. What is the service type that is the most late? Just for Parks & Rec?"
   ]
  },
  {
   "cell_type": "code",
   "execution_count": null,
   "id": "6f141533",
   "metadata": {},
   "outputs": [],
   "source": []
  },
  {
   "cell_type": "markdown",
   "id": "8e944ee0",
   "metadata": {},
   "source": [
    "#### 5. For the DSD/Code Enforcement department, what are the most common service request types? Look at other departments too."
   ]
  },
  {
   "cell_type": "code",
   "execution_count": null,
   "id": "d9e06825",
   "metadata": {},
   "outputs": [],
   "source": []
  },
  {
   "cell_type": "markdown",
   "id": "83b7a758",
   "metadata": {},
   "source": [
    "#### 6. Does whether or not its a weekend matter for when a case is opened/closed?"
   ]
  },
  {
   "cell_type": "code",
   "execution_count": null,
   "id": "3eb5c516",
   "metadata": {},
   "outputs": [],
   "source": []
  },
  {
   "cell_type": "markdown",
   "id": "acbbd459",
   "metadata": {},
   "source": [
    "#### 7. On average, how many cases are opened a day for the Customer Service department?"
   ]
  },
  {
   "cell_type": "code",
   "execution_count": null,
   "id": "4cf1b110",
   "metadata": {},
   "outputs": [],
   "source": []
  },
  {
   "cell_type": "markdown",
   "id": "ee1dfc8e",
   "metadata": {},
   "source": [
    "#### 8. Does the number of service requests for the solid waste department vary by day of the week?"
   ]
  },
  {
   "cell_type": "code",
   "execution_count": null,
   "id": "f2b11b8a",
   "metadata": {},
   "outputs": [],
   "source": []
  }
 ],
 "metadata": {
  "kernelspec": {
   "display_name": "Python 3",
   "language": "python",
   "name": "python3"
  },
  "language_info": {
   "codemirror_mode": {
    "name": "ipython",
    "version": 3
   },
   "file_extension": ".py",
   "mimetype": "text/x-python",
   "name": "python",
   "nbconvert_exporter": "python",
   "pygments_lexer": "ipython3",
   "version": "3.8.8"
  }
 },
 "nbformat": 4,
 "nbformat_minor": 5
}
