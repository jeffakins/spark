{
 "cells": [
  {
   "cell_type": "markdown",
   "id": "553440ad",
   "metadata": {},
   "source": [
    "# Exploring with Spark and Pandas"
   ]
  },
  {
   "cell_type": "markdown",
   "id": "b1cc4c11",
   "metadata": {},
   "source": [
    "### Answer the questions below by using a combination of the techniques discussed in the lesson that you think is appropriate."
   ]
  },
  {
   "cell_type": "code",
   "execution_count": null,
   "id": "2d8892da",
   "metadata": {},
   "outputs": [],
   "source": []
  },
  {
   "cell_type": "markdown",
   "id": "a2d2e8b8",
   "metadata": {},
   "source": [
    "#### 1. How many different cases are there, by department?"
   ]
  },
  {
   "cell_type": "code",
   "execution_count": null,
   "id": "1248dd87",
   "metadata": {},
   "outputs": [],
   "source": []
  },
  {
   "cell_type": "markdown",
   "id": "99feb1e1",
   "metadata": {},
   "source": [
    "#### 2. Does the percentage of cases that are late vary by department?"
   ]
  },
  {
   "cell_type": "code",
   "execution_count": null,
   "id": "df6fd487",
   "metadata": {},
   "outputs": [],
   "source": []
  },
  {
   "cell_type": "markdown",
   "id": "fc1a34cb",
   "metadata": {},
   "source": [
    "#### 3. On average, how late are the late cases by department?"
   ]
  },
  {
   "cell_type": "code",
   "execution_count": null,
   "id": "34009882",
   "metadata": {},
   "outputs": [],
   "source": []
  },
  {
   "cell_type": "markdown",
   "id": "62c1a847",
   "metadata": {},
   "source": [
    "#### 4. What is the service type that is the most late? Just for Parks & Rec?"
   ]
  },
  {
   "cell_type": "code",
   "execution_count": null,
   "id": "a8e18bfc",
   "metadata": {},
   "outputs": [],
   "source": []
  },
  {
   "cell_type": "markdown",
   "id": "ce9e6ce4",
   "metadata": {},
   "source": [
    "#### 5. For the DSD/Code Enforcement department, what are the most common service request types? Look at other departments too."
   ]
  },
  {
   "cell_type": "code",
   "execution_count": null,
   "id": "dd5794f1",
   "metadata": {},
   "outputs": [],
   "source": []
  },
  {
   "cell_type": "markdown",
   "id": "ac2b5f4a",
   "metadata": {},
   "source": [
    "#### 6. Does whether or not its a weekend matter for when a case is opened/closed?"
   ]
  },
  {
   "cell_type": "code",
   "execution_count": null,
   "id": "82c9827c",
   "metadata": {},
   "outputs": [],
   "source": []
  },
  {
   "cell_type": "markdown",
   "id": "a63fd788",
   "metadata": {},
   "source": [
    "#### 7. On average, how many cases are opened a day for the Customer Service department?"
   ]
  },
  {
   "cell_type": "code",
   "execution_count": null,
   "id": "cc483f14",
   "metadata": {},
   "outputs": [],
   "source": []
  },
  {
   "cell_type": "markdown",
   "id": "3236ca06",
   "metadata": {},
   "source": [
    "#### 8. Does the number of service requests for the solid waste department vary by day of the week?"
   ]
  },
  {
   "cell_type": "code",
   "execution_count": null,
   "id": "fc7946bd",
   "metadata": {},
   "outputs": [],
   "source": []
  }
 ],
 "metadata": {
  "kernelspec": {
   "display_name": "Python 3",
   "language": "python",
   "name": "python3"
  },
  "language_info": {
   "codemirror_mode": {
    "name": "ipython",
    "version": 3
   },
   "file_extension": ".py",
   "mimetype": "text/x-python",
   "name": "python",
   "nbconvert_exporter": "python",
   "pygments_lexer": "ipython3",
   "version": "3.8.8"
  }
 },
 "nbformat": 4,
 "nbformat_minor": 5
}
