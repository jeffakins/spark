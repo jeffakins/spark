{
 "cells": [
  {
   "cell_type": "markdown",
   "id": "69378ad6",
   "metadata": {},
   "source": [
    "# Wrangling Spark!"
   ]
  },
  {
   "cell_type": "markdown",
   "id": "53a1b037",
   "metadata": {},
   "source": [
    "##### This exercises uses the case.csv, dept.csv, and source.csv files from the san antonio 311 call dataset."
   ]
  },
  {
   "cell_type": "code",
   "execution_count": 1,
   "id": "293c4e81",
   "metadata": {},
   "outputs": [],
   "source": [
    "from pyspark.sql import SparkSession\n",
    "import pyspark.sql.functions as sf\n",
    "\n",
    "spark = SparkSession.builder.getOrCreate()"
   ]
  },
  {
   "cell_type": "markdown",
   "id": "ca28235d",
   "metadata": {},
   "source": [
    "### 1. Read the case, department, and source data into their own spark dataframes."
   ]
  },
  {
   "cell_type": "code",
   "execution_count": 2,
   "id": "6495ecb1",
   "metadata": {},
   "outputs": [],
   "source": [
    "case = spark.read.csv(\"case.csv\", sep=\",\", header=True, inferSchema=True)\n",
    "dept = spark.read.csv(\"dept.csv\", sep=\",\", header=True, inferSchema=True)\n",
    "source = spark.read.csv(\"source.csv\", sep=\",\", header=True, inferSchema=True)"
   ]
  },
  {
   "cell_type": "code",
   "execution_count": 9,
   "id": "62714cf5",
   "metadata": {},
   "outputs": [
    {
     "name": "stdout",
     "output_type": "stream",
     "text": [
      "-RECORD 0----------------------------------------------------\n",
      " case_id              | 1014127332                           \n",
      " case_opened_date     | 1/1/18 0:42                          \n",
      " case_closed_date     | 1/1/18 12:29                         \n",
      " SLA_due_date         | 9/26/20 0:42                         \n",
      " case_late            | NO                                   \n",
      " num_days_late        | -998.5087616000001                   \n",
      " case_closed          | YES                                  \n",
      " dept_division        | Field Operations                     \n",
      " service_request_type | Stray Animal                         \n",
      " SLA_days             | 999.0                                \n",
      " case_status          | Closed                               \n",
      " source_id            | svcCRMLS                             \n",
      " request_address      | 2315  EL PASO ST, San Antonio, 78207 \n",
      " council_district     | 5                                    \n",
      "-RECORD 1----------------------------------------------------\n",
      " case_id              | 1014127333                           \n",
      " case_opened_date     | 1/1/18 0:46                          \n",
      " case_closed_date     | 1/3/18 8:11                          \n",
      " SLA_due_date         | 1/5/18 8:30                          \n",
      " case_late            | NO                                   \n",
      " num_days_late        | -2.0126041669999997                  \n",
      " case_closed          | YES                                  \n",
      " dept_division        | Storm Water                          \n",
      " service_request_type | Removal Of Obstruction               \n",
      " SLA_days             | 4.322222222                          \n",
      " case_status          | Closed                               \n",
      " source_id            | svcCRMSS                             \n",
      " request_address      | 2215  GOLIAD RD, San Antonio, 78223  \n",
      " council_district     | 3                                    \n",
      "only showing top 2 rows\n",
      "\n"
     ]
    }
   ],
   "source": [
    "case.show(2, vertical=True, truncate=False)"
   ]
  },
  {
   "cell_type": "code",
   "execution_count": 10,
   "id": "11aad380",
   "metadata": {},
   "outputs": [
    {
     "name": "stdout",
     "output_type": "stream",
     "text": [
      "-RECORD 0----------------------------------------\n",
      " dept_division          | 311 Call Center        \n",
      " dept_name              | Customer Service       \n",
      " standardized_dept_name | Customer Service       \n",
      " dept_subject_to_SLA    | YES                    \n",
      "-RECORD 1----------------------------------------\n",
      " dept_division          | Brush                  \n",
      " dept_name              | Solid Waste Management \n",
      " standardized_dept_name | Solid Waste            \n",
      " dept_subject_to_SLA    | YES                    \n",
      "only showing top 2 rows\n",
      "\n"
     ]
    }
   ],
   "source": [
    "dept.show(2, vertical=True, truncate=False)"
   ]
  },
  {
   "cell_type": "code",
   "execution_count": 11,
   "id": "71a324d0",
   "metadata": {},
   "outputs": [
    {
     "name": "stdout",
     "output_type": "stream",
     "text": [
      "-RECORD 0---------------------------\n",
      " source_id       | 100137           \n",
      " source_username | Merlene Blodgett \n",
      "-RECORD 1---------------------------\n",
      " source_id       | 103582           \n",
      " source_username | Carmen Cura      \n",
      "only showing top 2 rows\n",
      "\n"
     ]
    }
   ],
   "source": [
    "source.show(2, vertical=True, truncate=False)"
   ]
  },
  {
   "cell_type": "markdown",
   "id": "09b97835",
   "metadata": {},
   "source": [
    "### 2. Let's see how writing to the local disk works in spark:\n",
    "\n",
    "- Write the code necessary to store the source data in both csv and json format, store these as sources_csv and sources_json\n",
    "- Inspect your folder structure. What do you notice?"
   ]
  },
  {
   "cell_type": "code",
   "execution_count": 7,
   "id": "f979aa35",
   "metadata": {},
   "outputs": [],
   "source": [
    "case.write.json(\"case_json\", mode=\"overwrite\")\n",
    "case.write.csv(\"case_csv\", mode=\"overwrite\")"
   ]
  },
  {
   "cell_type": "markdown",
   "id": "dc34a75c",
   "metadata": {},
   "source": [
    "### 3. Inspect the data in your dataframes. Are the data types appropriate? Write the code necessary to cast the values to the appropriate types."
   ]
  },
  {
   "cell_type": "code",
   "execution_count": 12,
   "id": "e68c7808",
   "metadata": {},
   "outputs": [
    {
     "name": "stdout",
     "output_type": "stream",
     "text": [
      "root\n",
      " |-- case_id: integer (nullable = true)\n",
      " |-- case_opened_date: string (nullable = true)\n",
      " |-- case_closed_date: string (nullable = true)\n",
      " |-- SLA_due_date: string (nullable = true)\n",
      " |-- case_late: string (nullable = true)\n",
      " |-- num_days_late: double (nullable = true)\n",
      " |-- case_closed: string (nullable = true)\n",
      " |-- dept_division: string (nullable = true)\n",
      " |-- service_request_type: string (nullable = true)\n",
      " |-- SLA_days: double (nullable = true)\n",
      " |-- case_status: string (nullable = true)\n",
      " |-- source_id: string (nullable = true)\n",
      " |-- request_address: string (nullable = true)\n",
      " |-- council_district: integer (nullable = true)\n",
      "\n"
     ]
    }
   ],
   "source": [
    "case.printSchema()"
   ]
  },
  {
   "cell_type": "code",
   "execution_count": 13,
   "id": "1c0fa27c",
   "metadata": {},
   "outputs": [
    {
     "name": "stdout",
     "output_type": "stream",
     "text": [
      "root\n",
      " |-- dept_division: string (nullable = true)\n",
      " |-- dept_name: string (nullable = true)\n",
      " |-- standardized_dept_name: string (nullable = true)\n",
      " |-- dept_subject_to_SLA: string (nullable = true)\n",
      "\n"
     ]
    }
   ],
   "source": [
    "dept.printSchema()"
   ]
  },
  {
   "cell_type": "code",
   "execution_count": 14,
   "id": "7b958a9e",
   "metadata": {},
   "outputs": [
    {
     "name": "stdout",
     "output_type": "stream",
     "text": [
      "root\n",
      " |-- source_id: string (nullable = true)\n",
      " |-- source_username: string (nullable = true)\n",
      "\n"
     ]
    }
   ],
   "source": [
    "source.printSchema()"
   ]
  },
  {
   "cell_type": "markdown",
   "id": "96908664",
   "metadata": {},
   "source": [
    "## Data Questions"
   ]
  },
  {
   "cell_type": "markdown",
   "id": "b545e9be",
   "metadata": {},
   "source": [
    "### 1. How old is the latest (in terms of days past SLA) currently open issue? How long has the oldest (in terms of days since opened) currently opened issue been open?"
   ]
  },
  {
   "cell_type": "markdown",
   "id": "f98cb2d3",
   "metadata": {},
   "source": [
    "### 2. How many Stray Animal cases are there?"
   ]
  },
  {
   "cell_type": "markdown",
   "id": "ef6a5eb9",
   "metadata": {},
   "source": [
    "### 3. How many service requests that are assigned to the Field Operations department (dept_division) are not classified as \"Officer Standby\" request type (service_request_type)?"
   ]
  },
  {
   "cell_type": "markdown",
   "id": "d2fd2ccf",
   "metadata": {},
   "source": [
    "### 4. Convert the council_district column to a string column."
   ]
  },
  {
   "cell_type": "markdown",
   "id": "1fe79da2",
   "metadata": {},
   "source": [
    "### 5. Extract the year from the case_closed_date column."
   ]
  },
  {
   "cell_type": "markdown",
   "id": "362d3be0",
   "metadata": {},
   "source": [
    "### 6. Convert num_days_late from days to hours in new columns num_hours_late."
   ]
  },
  {
   "cell_type": "markdown",
   "id": "05bc8a72",
   "metadata": {},
   "source": [
    "### 7. Join the case data with the source and department data."
   ]
  },
  {
   "cell_type": "markdown",
   "id": "44042958",
   "metadata": {},
   "source": [
    "### 8. Are there any cases that do not have a request source?"
   ]
  },
  {
   "cell_type": "markdown",
   "id": "4fd1d086",
   "metadata": {},
   "source": [
    "### 9. What are the top 10 service request types in terms of number of requests?"
   ]
  },
  {
   "cell_type": "markdown",
   "id": "ac0d7e49",
   "metadata": {},
   "source": [
    "### 10. What are the top 10 service request types in terms of average days late?"
   ]
  },
  {
   "cell_type": "markdown",
   "id": "05add803",
   "metadata": {},
   "source": [
    "### 11. Does number of days late depend on department?"
   ]
  },
  {
   "cell_type": "markdown",
   "id": "16ad5922",
   "metadata": {},
   "source": [
    "### 12. How do number of days late depend on department and request type?"
   ]
  },
  {
   "cell_type": "code",
   "execution_count": null,
   "id": "62ac216d",
   "metadata": {},
   "outputs": [],
   "source": []
  }
 ],
 "metadata": {
  "kernelspec": {
   "display_name": "Python 3",
   "language": "python",
   "name": "python3"
  },
  "language_info": {
   "codemirror_mode": {
    "name": "ipython",
    "version": 3
   },
   "file_extension": ".py",
   "mimetype": "text/x-python",
   "name": "python",
   "nbconvert_exporter": "python",
   "pygments_lexer": "ipython3",
   "version": "3.8.8"
  }
 },
 "nbformat": 4,
 "nbformat_minor": 5
}
